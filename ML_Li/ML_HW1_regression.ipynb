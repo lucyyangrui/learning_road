{
  "nbformat": 4,
  "nbformat_minor": 0,
  "metadata": {
    "colab": {
      "name": "Untitled1.ipynb",
      "provenance": [],
      "collapsed_sections": []
    },
    "kernelspec": {
      "name": "python3",
      "display_name": "Python 3"
    },
    "language_info": {
      "name": "python"
    }
  },
  "cells": [
    {
      "cell_type": "markdown",
      "metadata": {
        "id": "x2my4sf8Gkps"
      },
      "source": [
        "# **Download Data**"
      ]
    },
    {
      "cell_type": "code",
      "metadata": {
        "colab": {
          "base_uri": "https://localhost:8080/"
        },
        "id": "aIVC6GHoGpcJ",
        "outputId": "5a1c4668-90cd-496e-c460-7b59b43a596d"
      },
      "source": [
        "tr_path = 'covid.train.csv'  # path to training data\n",
        "tt_path = 'covid.test.csv'   # path to testing data\n",
        "\n",
        "!gdown --id '19CCyCgJrUxtvgZF53vnctJiOJ23T5mqF' --output covid.train.csv\n",
        "!gdown --id '1CE240jLm2npU-tdz81-oVKEF3T2yfT1O' --output covid.test.csv"
      ],
      "execution_count": 13,
      "outputs": [
        {
          "output_type": "stream",
          "text": [
            "Downloading...\n",
            "From: https://drive.google.com/uc?id=19CCyCgJrUxtvgZF53vnctJiOJ23T5mqF\n",
            "To: /content/covid.train.csv\n",
            "100% 2.00M/2.00M [00:00<00:00, 63.0MB/s]\n",
            "Downloading...\n",
            "From: https://drive.google.com/uc?id=1CE240jLm2npU-tdz81-oVKEF3T2yfT1O\n",
            "To: /content/covid.test.csv\n",
            "100% 651k/651k [00:00<00:00, 43.6MB/s]\n"
          ],
          "name": "stdout"
        }
      ]
    },
    {
      "cell_type": "markdown",
      "metadata": {
        "id": "4Uqc7gFJJa7G"
      },
      "source": [
        "# **Import Some Package**"
      ]
    },
    {
      "cell_type": "code",
      "metadata": {
        "id": "4uKrkCk-HGPG"
      },
      "source": [
        "import torch\n",
        "import torch.nn as nn\n",
        "from torch.utils.data import Dataset, DataLoader\n",
        "\n",
        "import numpy as np\n",
        "import csv\n",
        "import os\n",
        "\n",
        "import matplotlib.pyplot as plt\n",
        "from matplotlib.pyplot import figure\n",
        "\n",
        "myseed = 42069\n",
        "###############?????????????????#############\n",
        "torch.backends.cudnn.deterministic = True\n",
        "torch.backends.cudnn.benchmark = False\n",
        "np.random.seed(myseed)\n",
        "torch.manual_seed(myseed)\n",
        "if torch.cuda.is_available():\n",
        "  torch.cuda.manual_seed(myseed)"
      ],
      "execution_count": 3,
      "outputs": []
    },
    {
      "cell_type": "code",
      "metadata": {
        "id": "XjYA6hpHHNoD"
      },
      "source": [
        "def get_device():\n",
        "    ''' Get device (if GPU is available, use GPU) '''\n",
        "    return 'cuda' if torch.cuda.is_available() else 'cpu'\n",
        "\n",
        "def plot_learning_cruve(loss_record, title=''):\n",
        "  total_steps = len(loss_record['train'])\n",
        "  x_1 = range(total_steps)\n",
        "  x_2 = x_1[::len(loss_record['train']) // len(loss_record['dev'])]\n",
        "  figure(figsize=(6, 4))\n",
        "  plt.plot(x_1, loss_record['train'], c='tab:red', label='train')\n",
        "  plt.plot(x_2, loss_record['dev'], c='tab:cyan', label='dev')\n",
        "  plt.ylim(0.0, 5.)\n",
        "  plt.xlabel('Training steps')\n",
        "  plt.ylabel('MSE loss')\n",
        "  plt.title('Learning curve of {}'.format(title))\n",
        "  plt.legend()\n",
        "  plt.show()\n",
        "\n",
        "def plot_pred(dv_set, model, device, lim=35, preds=None, targets=None):\n",
        "  if preds is None or target is None:\n",
        "    model.eval()\n",
        "    preds, targets = [], []\n",
        "    for x, y in dv_set:\n",
        "      x, y = x.to(device), y.to(device)\n",
        "      with torch.no_grad():\n",
        "        pred = model(x)\n",
        "        preds.append(pred.detach().cpu())\n",
        "        targets.append(y.detach().cpu())\n",
        "    preds = torch.cat(preds, dim=0).numpy()\n",
        "    targets = torch.cat(targets, dim=0).numpy()\n",
        "\n",
        "  figure(figsize=(5, 5))\n",
        "  plt.scatter(targets, preds, c='r', alpha=0.5)\n",
        "  plt.plot([-0.2, lim], [-0.2, lim], c='b')\n",
        "  plt.xlim(-0.2, lim)\n",
        "  plt.ylim(-0.2, lim)\n",
        "  plt.xlabel('ground truth value')\n",
        "  plt.ylabel('predicted value')\n",
        "  plt.title('Ground Truth v.s. Prediction')\n",
        "  plt.show()"
      ],
      "execution_count": 27,
      "outputs": []
    },
    {
      "cell_type": "markdown",
      "metadata": {
        "id": "wDiOobPQOvDq"
      },
      "source": [
        "## **Dataset**\n",
        "\n",
        "The `COVID19Dataset` below does:\n",
        "* read `.csv` files\n",
        "* extract features\n",
        "* split `covid.train.csv` into train/dev sets\n",
        "* normalize features\n",
        "\n",
        "Finishing `TODO` below might make you pass medium baseline."
      ]
    },
    {
      "cell_type": "code",
      "metadata": {
        "id": "0SZet8iKHQcm"
      },
      "source": [
        "class COVID19Dataset(Dataset):\n",
        "  def __init__(self,\n",
        "               path,\n",
        "               mode='train',\n",
        "               target_only=False):\n",
        "    self.mode = mode\n",
        "\n",
        "    # read data into numpy array\n",
        "    with open(path, 'r') as fp:\n",
        "      data = list(csv.reader(fp))\n",
        "      data = np.array(data[1:])[:, 1:].astype(float)\n",
        "    \n",
        "    if not target_only:\n",
        "      feats = list(range(93))\n",
        "    else:\n",
        "      pass\n",
        "    \n",
        "    if mode == 'test':\n",
        "      data = data[:, feats]\n",
        "      self.data = torch.FloatTensor(data)\n",
        "    else:\n",
        "      target = data[:, -1]\n",
        "      data = data[:, feats]\n",
        "\n",
        "      if mode == 'train':\n",
        "        indices = [i for i in range(len(data)) if i % 10 != 0]\n",
        "      elif mode == 'dev':\n",
        "        indices = [i for i in range(len(data)) if i % 10 == 0]\n",
        "      \n",
        "      self.data = torch.FloatTensor(data[indices])\n",
        "      self.target = torch.FloatTensor(target[indices])\n",
        "    \n",
        "    self.data[:, 40:] = \\\n",
        "        (self.data[:, 40:] - self.data[:, 40:].mean(dim=0, keepdim=True))\\\n",
        "         / self.data[:, 40:].std(dim=0, keepdim=True)\n",
        "    \n",
        "    self.dim = self.data.shape[1]\n",
        "\n",
        "    print('finish reading the {} set of COVID19 Dataset ({} samples found, each dim = {}'\n",
        "    .format(mode, len(self.data), self.dim))\n",
        "\n",
        "  def __getitem__(self, index):\n",
        "    if self.mode in ['train', 'dev']:\n",
        "      return self.data[index], self.target[index]\n",
        "    else:\n",
        "      return self.data[index]\n",
        "  \n",
        "  def __len__(self):\n",
        "    return len(self.data)"
      ],
      "execution_count": 5,
      "outputs": []
    },
    {
      "cell_type": "markdown",
      "metadata": {
        "id": "oDt-YQdnTfUs"
      },
      "source": [
        "## **DataLoader**"
      ]
    },
    {
      "cell_type": "code",
      "metadata": {
        "id": "5JJZgtMQHWTP"
      },
      "source": [
        "def pre_dataloader(path, mode, batch_size, n_jobs=0, target_only=False):\n",
        "  dataset = COVID19Dataset(path, mode=mode, target_only=target_only)\n",
        "  dataloader = DataLoader(\n",
        "      dataset,\n",
        "      batch_size,\n",
        "      shuffle=(mode == 'train'), drop_last=False,\n",
        "      num_workers=n_jobs,\n",
        "      pin_memory=True\n",
        "  )\n",
        "  return dataloader"
      ],
      "execution_count": 6,
      "outputs": []
    },
    {
      "cell_type": "markdown",
      "metadata": {
        "id": "uQlvx_EGZGay"
      },
      "source": [
        "# **Deep Neural Network**\n",
        "`NeuralNet` is an `nn.Module` designed for regression.\n",
        "The DNN consists of 2 fully-connected layers with ReLU activation.\n",
        "This module also included a function `cal_loss` for calculating loss."
      ]
    },
    {
      "cell_type": "code",
      "metadata": {
        "id": "Modt-3BXI8lN"
      },
      "source": [
        "class NeuralNet(nn.Module):\n",
        "  def __init__(self, input_dim):\n",
        "    super(NeuralNet, self).__init__()\n",
        "\n",
        "    self.net = nn.Sequential(\n",
        "        nn.Linear(input_dim, 64),\n",
        "        nn.ReLU(),\n",
        "        nn.Linear(64, 1),\n",
        "    )\n",
        "    # 均方误差\n",
        "    self.criterion = nn.MSELoss(reduction='mean')\n",
        "  \n",
        "  def forward(self, x):\n",
        "    return self.net(x).squeeze(1)\n",
        "  \n",
        "  def cal_loss(self, pred, target):\n",
        "    return self.criterion(pred, target)"
      ],
      "execution_count": 7,
      "outputs": []
    },
    {
      "cell_type": "code",
      "metadata": {
        "id": "zq3cT2T4aztR"
      },
      "source": [
        "?nn.Sequential"
      ],
      "execution_count": 28,
      "outputs": []
    },
    {
      "cell_type": "markdown",
      "metadata": {
        "id": "9qcwFLvfcf0P"
      },
      "source": [
        "# **Train/Dev/Test**"
      ]
    },
    {
      "cell_type": "markdown",
      "metadata": {
        "id": "GGw3S9irci8w"
      },
      "source": [
        "## **Training**"
      ]
    },
    {
      "cell_type": "code",
      "metadata": {
        "id": "eFT0Qz18a3En"
      },
      "source": [
        "def train(tr_set, dv_set, model, config, device):\n",
        "  n_epoch = config['n_epochs']\n",
        "\n",
        "  optimizer = getattr(torch.optim, config['optimizer'])(\n",
        "      model.parameters(), **config['optim_hparas']\n",
        "  )\n",
        "\n",
        "  min_mse = 1000.\n",
        "  loss_record = {'train': [], 'dev': []}\n",
        "  early_stop_cnt = 0\n",
        "  epoch = 0\n",
        "  while epoch < n_epoch:\n",
        "    model.train()\n",
        "    for x, y in tr_set:\n",
        "      optimizer.zero_grad()\n",
        "      x, y = x.to(device), y.to(device)\n",
        "      pred = model(x)\n",
        "      mse_loss = model.cal_loss(pred, y)\n",
        "      mse_loss.backward() # 计算梯度\n",
        "      optimizer.step() # 更新模型\n",
        "      loss_record['train'].append(mse_loss.detach().cpu().item())\n",
        "    \n",
        "    dev_mse = dev(dv_set, model, device)\n",
        "    if dev_mse < min_mse:\n",
        "      min_mse = dev_mse\n",
        "      print('Saving model (epoch={:4d}, loss={:.4f})'.format(epoch + 1, min_mse))\n",
        "      torch.save(model.state_dict(), config['save_path'])\n",
        "      early_stop_cnt = 0\n",
        "    else:\n",
        "      early_stop_cnt += 1\n",
        "    \n",
        "    epoch += 1\n",
        "    loss_record['dev'].append(dev_mse)\n",
        "    if early_stop_cnt > config['early_stop']:\n",
        "      break\n",
        "\n",
        "  print('Finish training after {} apoch'.format(epoch))\n",
        "  return min_mse, loss_record"
      ],
      "execution_count": 8,
      "outputs": []
    },
    {
      "cell_type": "markdown",
      "metadata": {
        "id": "H0G-zlHBA2pE"
      },
      "source": [
        "## **Validation**"
      ]
    },
    {
      "cell_type": "code",
      "metadata": {
        "id": "VH131f2qcY9A"
      },
      "source": [
        "def dev(dv_set, model, device):\n",
        "  model.eval()\n",
        "  total_loss = 0\n",
        "  for x, y in dv_set:\n",
        "    x, y = x.to(device), y.to(device)\n",
        "    with torch.no_grad():\n",
        "      pred = model(x)\n",
        "      mse_loss = model.cal_loss(pred, y)\n",
        "    total_loss += mse_loss.detach().cpu().item() * len(x)\n",
        "  total_loss = total_loss / len(dv_set.dataset)\n",
        "\n",
        "  return total_loss"
      ],
      "execution_count": 9,
      "outputs": []
    },
    {
      "cell_type": "markdown",
      "metadata": {
        "id": "VFGkG-wQCA5P"
      },
      "source": [
        "## **Testing**"
      ]
    },
    {
      "cell_type": "code",
      "metadata": {
        "id": "J9cuaLSWA8nX"
      },
      "source": [
        "def test(tt_set, model, device):\n",
        "  model.eval()\n",
        "  preds = []\n",
        "  for x in tt_set:\n",
        "    x = x.to(device)\n",
        "    with torch.no_grad():\n",
        "      pred = model(x)\n",
        "      preds.append(pred.detach().cpu())\n",
        "  preds = torch.cat(preds, dim=0).numpy()\n",
        "  return preds"
      ],
      "execution_count": 31,
      "outputs": []
    },
    {
      "cell_type": "markdown",
      "metadata": {
        "id": "FEz_WydSCox8"
      },
      "source": [
        "# **Setup Hyper-parameters**\n",
        "\n",
        "`config` contains hyper-parameters for training and the path to save your model."
      ]
    },
    {
      "cell_type": "code",
      "metadata": {
        "id": "9Hodlh0aCkIe"
      },
      "source": [
        "device = get_device()\n",
        "os.makedirs('models', exist_ok=True)\n",
        "target_only = False\n",
        "\n",
        "config = {\n",
        "    'n_epochs': 3000,\n",
        "    'batch_size': 270,\n",
        "    'optimizer': 'SGD',\n",
        "    'optim_hparas': {\n",
        "        'lr': 0.001,\n",
        "        'momentum': 0.9\n",
        "    },\n",
        "    'early_stop': 200,\n",
        "    'save_path': 'models/model.pth'\n",
        "}"
      ],
      "execution_count": 11,
      "outputs": []
    },
    {
      "cell_type": "markdown",
      "metadata": {
        "id": "IXOPxFDYDg45"
      },
      "source": [
        "# **Load Data and Model**"
      ]
    },
    {
      "cell_type": "code",
      "metadata": {
        "colab": {
          "base_uri": "https://localhost:8080/"
        },
        "id": "j4Ik67TXDeao",
        "outputId": "baf6cabe-2ea3-4d01-e9ef-cce25da7f56b"
      },
      "source": [
        "tr_set = pre_dataloader(tr_path, 'train', config['batch_size'], target_only=target_only)\n",
        "dv_set = pre_dataloader(tr_path, 'dev', config['batch_size'], target_only=target_only)\n",
        "tt_set = pre_dataloader(tt_path, 'test', config['batch_size'], target_only=target_only)"
      ],
      "execution_count": 14,
      "outputs": [
        {
          "output_type": "stream",
          "text": [
            "finish reading the train set of COVID19 Dataset (2430 samples found, each dim = 93\n",
            "finish reading the dev set of COVID19 Dataset (270 samples found, each dim = 93\n",
            "finish reading the test set of COVID19 Dataset (893 samples found, each dim = 93\n"
          ],
          "name": "stdout"
        }
      ]
    },
    {
      "cell_type": "code",
      "metadata": {
        "id": "6UjLhJutFH1l"
      },
      "source": [
        "model = NeuralNet(tr_set.dataset.dim).to(device)"
      ],
      "execution_count": 23,
      "outputs": []
    },
    {
      "cell_type": "markdown",
      "metadata": {
        "id": "jxK8h4CfE0nD"
      },
      "source": [
        "# **Start Training!**"
      ]
    },
    {
      "cell_type": "code",
      "metadata": {
        "colab": {
          "base_uri": "https://localhost:8080/"
        },
        "id": "Cffp4jLpEnN0",
        "outputId": "6b9359a0-b849-4251-b134-b8365da25971"
      },
      "source": [
        "model_loss, model_loss_record = train(tr_set, dv_set, model, config, device)"
      ],
      "execution_count": 24,
      "outputs": [
        {
          "output_type": "stream",
          "text": [
            "Saving model (epoch=   1, loss=99.8190)\n",
            "Saving model (epoch=   2, loss=32.0219)\n",
            "Saving model (epoch=   3, loss=24.6171)\n",
            "Saving model (epoch=   4, loss=20.2555)\n",
            "Saving model (epoch=   5, loss=11.2592)\n",
            "Saving model (epoch=   6, loss=7.2164)\n",
            "Saving model (epoch=   7, loss=5.5015)\n",
            "Saving model (epoch=   8, loss=4.8247)\n",
            "Saving model (epoch=   9, loss=4.1287)\n",
            "Saving model (epoch=  10, loss=3.6483)\n",
            "Saving model (epoch=  11, loss=3.3119)\n",
            "Saving model (epoch=  12, loss=3.0631)\n",
            "Saving model (epoch=  13, loss=2.8601)\n",
            "Saving model (epoch=  14, loss=2.7015)\n",
            "Saving model (epoch=  15, loss=2.4921)\n",
            "Saving model (epoch=  16, loss=2.3523)\n",
            "Saving model (epoch=  17, loss=2.2348)\n",
            "Saving model (epoch=  18, loss=2.1235)\n",
            "Saving model (epoch=  19, loss=2.0259)\n",
            "Saving model (epoch=  20, loss=1.9114)\n",
            "Saving model (epoch=  21, loss=1.8478)\n",
            "Saving model (epoch=  22, loss=1.7437)\n",
            "Saving model (epoch=  23, loss=1.6927)\n",
            "Saving model (epoch=  24, loss=1.5945)\n",
            "Saving model (epoch=  25, loss=1.5633)\n",
            "Saving model (epoch=  26, loss=1.4750)\n",
            "Saving model (epoch=  27, loss=1.4417)\n",
            "Saving model (epoch=  28, loss=1.3921)\n",
            "Saving model (epoch=  30, loss=1.3163)\n",
            "Saving model (epoch=  31, loss=1.3157)\n",
            "Saving model (epoch=  32, loss=1.2496)\n",
            "Saving model (epoch=  33, loss=1.2441)\n",
            "Saving model (epoch=  34, loss=1.2086)\n",
            "Saving model (epoch=  35, loss=1.1849)\n",
            "Saving model (epoch=  37, loss=1.1561)\n",
            "Saving model (epoch=  38, loss=1.1540)\n",
            "Saving model (epoch=  39, loss=1.1364)\n",
            "Saving model (epoch=  40, loss=1.1201)\n",
            "Saving model (epoch=  41, loss=1.1085)\n",
            "Saving model (epoch=  43, loss=1.1021)\n",
            "Saving model (epoch=  44, loss=1.0920)\n",
            "Saving model (epoch=  45, loss=1.0739)\n",
            "Saving model (epoch=  46, loss=1.0704)\n",
            "Saving model (epoch=  47, loss=1.0569)\n",
            "Saving model (epoch=  49, loss=1.0451)\n",
            "Saving model (epoch=  51, loss=1.0199)\n",
            "Saving model (epoch=  53, loss=1.0159)\n",
            "Saving model (epoch=  55, loss=1.0144)\n",
            "Saving model (epoch=  56, loss=1.0009)\n",
            "Saving model (epoch=  59, loss=1.0006)\n",
            "Saving model (epoch=  60, loss=0.9958)\n",
            "Saving model (epoch=  61, loss=0.9896)\n",
            "Saving model (epoch=  62, loss=0.9889)\n",
            "Saving model (epoch=  63, loss=0.9786)\n",
            "Saving model (epoch=  64, loss=0.9610)\n",
            "Saving model (epoch=  68, loss=0.9536)\n",
            "Saving model (epoch=  70, loss=0.9429)\n",
            "Saving model (epoch=  71, loss=0.9373)\n",
            "Saving model (epoch=  77, loss=0.9243)\n",
            "Saving model (epoch=  81, loss=0.9153)\n",
            "Saving model (epoch=  84, loss=0.9072)\n",
            "Saving model (epoch=  90, loss=0.8975)\n",
            "Saving model (epoch=  92, loss=0.8936)\n",
            "Saving model (epoch=  98, loss=0.8838)\n",
            "Saving model (epoch= 101, loss=0.8731)\n",
            "Saving model (epoch= 107, loss=0.8716)\n",
            "Saving model (epoch= 113, loss=0.8635)\n",
            "Saving model (epoch= 121, loss=0.8597)\n",
            "Saving model (epoch= 122, loss=0.8552)\n",
            "Saving model (epoch= 133, loss=0.8445)\n",
            "Saving model (epoch= 145, loss=0.8427)\n",
            "Saving model (epoch= 146, loss=0.8377)\n",
            "Saving model (epoch= 155, loss=0.8309)\n",
            "Saving model (epoch= 166, loss=0.8199)\n",
            "Saving model (epoch= 185, loss=0.8175)\n",
            "Saving model (epoch= 210, loss=0.8117)\n",
            "Saving model (epoch= 230, loss=0.8094)\n",
            "Saving model (epoch= 267, loss=0.8078)\n",
            "Saving model (epoch= 273, loss=0.8060)\n",
            "Saving model (epoch= 287, loss=0.8036)\n",
            "Saving model (epoch= 293, loss=0.8017)\n",
            "Saving model (epoch= 297, loss=0.7989)\n",
            "Saving model (epoch= 302, loss=0.7950)\n",
            "Saving model (epoch= 335, loss=0.7891)\n",
            "Saving model (epoch= 364, loss=0.7891)\n",
            "Saving model (epoch= 368, loss=0.7887)\n",
            "Saving model (epoch= 370, loss=0.7865)\n",
            "Saving model (epoch= 391, loss=0.7860)\n",
            "Saving model (epoch= 393, loss=0.7845)\n",
            "Saving model (epoch= 414, loss=0.7843)\n",
            "Saving model (epoch= 420, loss=0.7839)\n",
            "Saving model (epoch= 423, loss=0.7810)\n",
            "Saving model (epoch= 470, loss=0.7777)\n",
            "Saving model (epoch= 492, loss=0.7749)\n",
            "Saving model (epoch= 536, loss=0.7694)\n",
            "Saving model (epoch= 704, loss=0.7680)\n",
            "Saving model (epoch= 751, loss=0.7677)\n",
            "Saving model (epoch= 762, loss=0.7671)\n",
            "Saving model (epoch= 771, loss=0.7661)\n",
            "Saving model (epoch= 799, loss=0.7629)\n",
            "Saving model (epoch= 893, loss=0.7595)\n",
            "Saving model (epoch= 985, loss=0.7592)\n",
            "Saving model (epoch= 991, loss=0.7589)\n",
            "Saving model (epoch=1013, loss=0.7559)\n",
            "Saving model (epoch=1144, loss=0.7558)\n",
            "Saving model (epoch=1175, loss=0.7533)\n",
            "Finish training after 1376 apoch\n"
          ],
          "name": "stdout"
        }
      ]
    },
    {
      "cell_type": "code",
      "metadata": {
        "colab": {
          "base_uri": "https://localhost:8080/",
          "height": 295
        },
        "id": "6JEwCYKLGGCx",
        "outputId": "fb3222c5-66f4-43ec-a197-32b8f44a0164"
      },
      "source": [
        "plot_learning_cruve(model_loss_record, title='deep model')"
      ],
      "execution_count": 25,
      "outputs": [
        {
          "output_type": "display_data",
          "data": {
            "image/png": "[encoded data removed]",
            "text/plain": [
              "<Figure size 432x288 with 1 Axes>"
            ]
          },
          "metadata": {
            "tags": [],
            "needs_background": "light"
          }
        }
      ]
    },
    {
      "cell_type": "code",
      "metadata": {
        "colab": {
          "base_uri": "https://localhost:8080/",
          "height": 350
        },
        "id": "PwquFQoolOV6",
        "outputId": "816ea820-5ad4-4ce6-ad61-9aeecad4c570"
      },
      "source": [
        "del model\n",
        "model = NeuralNet(tr_set.dataset.dim).to(device)\n",
        "ckpt = torch.load(config['save_path'], map_location='cpu')\n",
        "model.load_state_dict(ckpt)\n",
        "plot_pred(dv_set, model, device)"
      ],
      "execution_count": 28,
      "outputs": [
        {
          "output_type": "display_data",
          "data": {
            "image/png": "[encoded data removed]",
            "text/plain": [
              "<Figure size 360x360 with 1 Axes>"
            ]
          },
          "metadata": {
            "tags": [],
            "needs_background": "light"
          }
        }
      ]
    },
    {
      "cell_type": "markdown",
      "metadata": {
        "id": "I1FfGQ67h62_"
      },
      "source": [
        "# **Testing**"
      ]
    },
    {
      "cell_type": "code",
      "metadata": {
        "colab": {
          "base_uri": "https://localhost:8080/"
        },
        "id": "DaieN96qh8gZ",
        "outputId": "755c9113-0992-4fff-a45a-895708f8cdaa"
      },
      "source": [
        "def save_pred(preds, file):\n",
        "  print('Saving results to {}'.format(file))\n",
        "  with open(file, 'w') as fp:\n",
        "    writer = csv.writer(fp)\n",
        "    writer.writerow(['id', 'tested_positive'])\n",
        "    for i, p in enumerate(preds):\n",
        "      writer.writerow([i, p])\n",
        "\n",
        "preds = test(tt_set, model, device)\n",
        "save_pred(preds, 'pred.csv')"
      ],
      "execution_count": 32,
      "outputs": [
        {
          "output_type": "stream",
          "text": [
            "Saving results to pred.csv\n"
          ],
          "name": "stdout"
        }
      ]
    },
    {
      "cell_type": "code",
      "metadata": {
        "id": "Y1XoEEjgistt"
      },
      "source": [
        ""
      ],
      "execution_count": null,
      "outputs": []
    }
  ]
}