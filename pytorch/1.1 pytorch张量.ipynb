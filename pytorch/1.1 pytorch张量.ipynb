{
 "cells": [
  {
   "cell_type": "code",
   "execution_count": 1,
   "id": "bec396f9",
   "metadata": {},
   "outputs": [],
   "source": [
    "import torch"
   ]
  },
  {
   "cell_type": "markdown",
   "id": "681ba160",
   "metadata": {},
   "source": [
    "### pytorch环境配置\n",
    "参考文档：https://blog.csdn.net/weixin_47038938/article/details/115470086\n",
    "\n",
    "机器的显卡驱动能支持的cuda版本太旧了，没办法用GPU，就用CPU凑合一下好了。。。\n",
    "\n",
    "### pytorch是什么？\n",
    " - 作为Numpy的替代品，使用GPU的强大算力；\n",
    " - 提供最大的灵活性和高速的深度学习研究平台。\n",
    " \n",
    " Tensor（张量）\n",
    " \n",
    " 与Numpy中的ndarrays类似，但pytorch中可以使用GPU\n",
    " \n",
    " Q：这里的张量和tensorflow与Numpy中的相似点与不同点是什么？\n",
    " A："
   ]
  },
  {
   "cell_type": "code",
   "execution_count": 2,
   "id": "1795296a",
   "metadata": {},
   "outputs": [],
   "source": [
    "from __future__ import print_function\n",
    "import torch"
   ]
  },
  {
   "cell_type": "markdown",
   "id": "835d6f99",
   "metadata": {},
   "source": [
    "创建一个5*3矩阵，未初始化"
   ]
  },
  {
   "cell_type": "code",
   "execution_count": 3,
   "id": "0f8566bd",
   "metadata": {},
   "outputs": [
    {
     "name": "stdout",
     "output_type": "stream",
     "text": [
      "tensor([[-1.7047e-35,  8.3377e-43, -1.7046e-35],\n",
      "        [ 8.3377e-43, -1.7045e-35,  8.3377e-43],\n",
      "        [-1.7048e-35,  8.3377e-43, -1.7047e-35],\n",
      "        [ 8.3377e-43, -1.7046e-35,  8.3377e-43],\n",
      "        [-1.7050e-35,  8.3377e-43, -1.7046e-35]])\n"
     ]
    }
   ],
   "source": [
    "x = torch.empty(5, 3)\n",
    "print(x)"
   ]
  },
  {
   "cell_type": "code",
   "execution_count": 4,
   "id": "4c7a4e77",
   "metadata": {},
   "outputs": [],
   "source": [
    "?torch.empty"
   ]
  },
  {
   "cell_type": "markdown",
   "id": "867078c9",
   "metadata": {},
   "source": [
    "创建一个随机初始化的矩阵"
   ]
  },
  {
   "cell_type": "code",
   "execution_count": 8,
   "id": "b8af883e",
   "metadata": {},
   "outputs": [
    {
     "name": "stdout",
     "output_type": "stream",
     "text": [
      "tensor([[0.9933, 0.1812, 0.9859],\n",
      "        [0.0469, 0.0324, 0.0916],\n",
      "        [0.8373, 0.5855, 0.2555],\n",
      "        [0.0856, 0.6218, 0.2838],\n",
      "        [0.3040, 0.7790, 0.4401]])\n"
     ]
    }
   ],
   "source": [
    "x = torch.rand(5, 3)\n",
    "print(x)\n",
    "# ----0填充\n",
    "# x = torch.zeros(5, 3, dtype=torch.long)\n",
    "# print(x)"
   ]
  },
  {
   "cell_type": "markdown",
   "id": "d3dfbc5b",
   "metadata": {},
   "source": [
    "张量运算 加法"
   ]
  },
  {
   "cell_type": "code",
   "execution_count": 9,
   "id": "9a2d7544",
   "metadata": {},
   "outputs": [
    {
     "name": "stdout",
     "output_type": "stream",
     "text": [
      "tensor([[1.7379, 1.1314, 1.6339],\n",
      "        [0.1686, 0.9128, 0.1489],\n",
      "        [1.4957, 1.0847, 0.7071],\n",
      "        [0.7466, 1.5437, 1.0121],\n",
      "        [0.6801, 1.0053, 0.7624]])\n",
      "tensor([[1.7379, 1.1314, 1.6339],\n",
      "        [0.1686, 0.9128, 0.1489],\n",
      "        [1.4957, 1.0847, 0.7071],\n",
      "        [0.7466, 1.5437, 1.0121],\n",
      "        [0.6801, 1.0053, 0.7624]])\n"
     ]
    }
   ],
   "source": [
    "y = torch.rand(5, 3)\n",
    "print(x + y)\n",
    "print(torch.add(x, y))"
   ]
  },
  {
   "cell_type": "markdown",
   "id": "d4942f8e",
   "metadata": {},
   "source": [
    "将运算结果输出到张量"
   ]
  },
  {
   "cell_type": "code",
   "execution_count": 10,
   "id": "c684fc5b",
   "metadata": {},
   "outputs": [
    {
     "name": "stdout",
     "output_type": "stream",
     "text": [
      "tensor([[1.7379, 1.1314, 1.6339],\n",
      "        [0.1686, 0.9128, 0.1489],\n",
      "        [1.4957, 1.0847, 0.7071],\n",
      "        [0.7466, 1.5437, 1.0121],\n",
      "        [0.6801, 1.0053, 0.7624]])\n"
     ]
    }
   ],
   "source": [
    "result = torch.empty(5, 3)\n",
    "torch.add(x, y, out=result)\n",
    "print(result)"
   ]
  },
  {
   "cell_type": "markdown",
   "id": "f7b5effb",
   "metadata": {},
   "source": [
    "替换"
   ]
  },
  {
   "cell_type": "code",
   "execution_count": 12,
   "id": "21b32e0f",
   "metadata": {},
   "outputs": [
    {
     "name": "stdout",
     "output_type": "stream",
     "text": [
      "tensor([[2.7313, 1.3127, 2.6197],\n",
      "        [0.2155, 0.9452, 0.2406],\n",
      "        [2.3330, 1.6702, 0.9627],\n",
      "        [0.8322, 2.1655, 1.2959],\n",
      "        [0.9841, 1.7843, 1.2025]])\n"
     ]
    }
   ],
   "source": [
    "y.add_(x)\n",
    "print(y)"
   ]
  },
  {
   "cell_type": "markdown",
   "id": "c68a52a8",
   "metadata": {},
   "source": [
    "**Note**\n",
    "\n",
    "任何以\"_\"结尾的操作都会应结果替换原变量。"
   ]
  },
  {
   "cell_type": "markdown",
   "id": "e3731259",
   "metadata": {},
   "source": [
    "### Numpy转换\n",
    "将Torch Tensor与Numpy数组相互转换很容易实现\n",
    "\n",
    "两者贡献底层内存地址，修改一个会导致另一个的变化\n",
    "\n",
    "将一个Torch Tensor转换为Numpy数组"
   ]
  },
  {
   "cell_type": "code",
   "execution_count": 14,
   "id": "0fdc8f56",
   "metadata": {},
   "outputs": [
    {
     "name": "stdout",
     "output_type": "stream",
     "text": [
      "tensor([1., 1., 1., 1., 1.])\n"
     ]
    }
   ],
   "source": [
    "a = torch.ones(5)\n",
    "print(a)"
   ]
  },
  {
   "cell_type": "code",
   "execution_count": 15,
   "id": "8dcdf138",
   "metadata": {},
   "outputs": [
    {
     "name": "stdout",
     "output_type": "stream",
     "text": [
      "[1. 1. 1. 1. 1.]\n"
     ]
    }
   ],
   "source": [
    "b = a.numpy()\n",
    "print(b)"
   ]
  },
  {
   "cell_type": "code",
   "execution_count": 16,
   "id": "f0eda18f",
   "metadata": {},
   "outputs": [
    {
     "data": {
      "text/plain": [
       "tensor([2., 2., 2., 2., 2.])"
      ]
     },
     "execution_count": 16,
     "metadata": {},
     "output_type": "execute_result"
    }
   ],
   "source": [
    "a.add_(1)"
   ]
  },
  {
   "cell_type": "code",
   "execution_count": 17,
   "id": "7831f51c",
   "metadata": {},
   "outputs": [
    {
     "name": "stdout",
     "output_type": "stream",
     "text": [
      "[2. 2. 2. 2. 2.]\n"
     ]
    }
   ],
   "source": [
    "print(b)"
   ]
  },
  {
   "cell_type": "markdown",
   "id": "0780024c",
   "metadata": {},
   "source": [
    "Numpy转化为Torch Tensor"
   ]
  },
  {
   "cell_type": "code",
   "execution_count": 19,
   "id": "b69a9094",
   "metadata": {},
   "outputs": [
    {
     "name": "stdout",
     "output_type": "stream",
     "text": [
      "tensor([2., 2., 2., 2., 2.], dtype=torch.float64)\n"
     ]
    }
   ],
   "source": [
    "import numpy as np\n",
    "a = np.ones(5)\n",
    "b = torch.from_numpy(a)\n",
    "np.add(a, 1, out=a)\n",
    "print(b)"
   ]
  },
  {
   "cell_type": "markdown",
   "id": "3aa44686",
   "metadata": {},
   "source": [
    "所有的Tensor类型默认都是基于CPU，CharTensor类型不支持到Numpy的转换"
   ]
  },
  {
   "cell_type": "code",
   "execution_count": 21,
   "id": "19cefae0",
   "metadata": {},
   "outputs": [
    {
     "name": "stderr",
     "output_type": "stream",
     "text": [
      "C:\\Users\\admin\\anaconda3\\envs\\pytorch\\lib\\site-packages\\torch\\cuda\\__init__.py:52: UserWarning: CUDA initialization: The NVIDIA driver on your system is too old (found version 6050). Please update your GPU driver by downloading and installing a new version from the URL: http://www.nvidia.com/Download/index.aspx Alternatively, go to: https://pytorch.org to install a PyTorch version that has been compiled with your version of the CUDA driver. (Triggered internally at  ..\\c10\\cuda\\CUDAFunctions.cpp:115.)\n",
      "  return torch._C._cuda_getDeviceCount() > 0\n"
     ]
    },
    {
     "data": {
      "text/plain": [
       "False"
      ]
     },
     "execution_count": 21,
     "metadata": {},
     "output_type": "execute_result"
    }
   ],
   "source": [
    "torch.cuda.is_available()"
   ]
  },
  {
   "cell_type": "code",
   "execution_count": null,
   "id": "3fbb9401",
   "metadata": {},
   "outputs": [],
   "source": []
  }
 ],
 "metadata": {
  "kernelspec": {
   "display_name": "Python [conda env:pytorch]",
   "language": "python",
   "name": "conda-env-pytorch-py"
  },
  "language_info": {
   "codemirror_mode": {
    "name": "ipython",
    "version": 3
   },
   "file_extension": ".py",
   "mimetype": "text/x-python",
   "name": "python",
   "nbconvert_exporter": "python",
   "pygments_lexer": "ipython3",
   "version": "3.8.10"
  }
 },
 "nbformat": 4,
 "nbformat_minor": 5
}
